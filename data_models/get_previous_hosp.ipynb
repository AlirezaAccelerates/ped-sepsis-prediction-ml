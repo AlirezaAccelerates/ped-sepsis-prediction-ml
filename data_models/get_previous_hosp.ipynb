{
 "cells": [
  {
   "cell_type": "code",
   "execution_count": 1,
   "metadata": {},
   "outputs": [],
   "source": [
    "# Import libraries and packages\n",
    "import pandas as pd\n",
    "import numpy as np\n",
    "import warnings\n",
    "import os\n",
    "warnings.filterwarnings(\"ignore\")"
   ]
  },
  {
   "cell_type": "code",
   "execution_count": null,
   "metadata": {},
   "outputs": [],
   "source": [
    "# Load encounters file\n",
    "dept_path = '/opt/data/rishi/ECMO/new_data/TAB2_Encounter_Departments.csv'\n",
    "dept = pd.read_csv(dept_path)\n",
    "dept[['BIRTH_DATE', 'Hosp_Admission', 'Hosp_Discharge', 'Entered_Dept', 'Exited_Dept']] = dept[['BIRTH_DATE', 'Hosp_Admission', 'Hosp_Discharge', 'Entered_Dept', 'Exited_Dept']].apply(pd.to_datetime)\n",
    "dept = dept[['Pat ID', 'Encounter CSN', 'Name', 'BIRTH_DATE', 'Department', 'Entered_Dept', 'Exited_Dept', 'Hosp_Admission', 'Hosp_Discharge']]\n",
    "dept.columns = ['patid', 'csn', 'name', 'dob', 'department', 'entered_dept', 'exited_dept', 'hosp_adm', 'hosp_disch']\n",
    "dept = dept[(dept['department'].str.contains('PEDIATRIC ICU')) & (dept['hosp_adm'] >= '2010-01-01')]\n",
    "dept.dropna(inplace=True)\n",
    "dept.drop_duplicates(inplace=True)\n",
    "dept.sort_values(by=['csn', 'hosp_adm', 'entered_dept'], inplace=True)\n",
    "dept = dept.groupby('csn', as_index=False).first()\n",
    "\n",
    "# Load cohort file\n",
    "cohort = pd.read_csv('/opt/moredata/dchanci/pediatric_sepsis/data_screening/cohort_sirs_od.csv')\n",
    "cohort = cohort[['patid', 'mrn', 'csn', 'dob']]\n",
    "cohort['dob'] = cohort['dob'].apply(pd.to_datetime)\n",
    "cohort = cohort.merge(dept[['csn', 'department', 'entered_dept', 'exited_dept', 'hosp_adm', 'hosp_disch']], how='inner', on='csn')\n",
    "cohort.drop_duplicates(inplace=True)"
   ]
  },
  {
   "cell_type": "code",
   "execution_count": 4,
   "metadata": {},
   "outputs": [],
   "source": [
    "# Load encounters file\n",
    "dept = pd.read_csv('/opt/data/rishi/ECMO/new_data/TAB2_Encounter_Departments.csv')\n",
    "dept = dept[['Pat ID', 'Encounter CSN', 'Hosp_Admission']]\n",
    "dept.columns = ['patid', 'prev_csn', 'prev_hosp_adm']\n",
    "dept['prev_hosp_adm'] = dept['prev_hosp_adm'].apply(pd.to_datetime)\n",
    "dept.drop_duplicates(inplace=True)"
   ]
  },
  {
   "cell_type": "code",
   "execution_count": null,
   "metadata": {},
   "outputs": [],
   "source": [
    "# Find previous hospitalizations\n",
    "cohort = cohort[['patid', 'csn', 'hosp_adm']]\n",
    "cohort = cohort.merge(dept, how='inner', on='patid')\n",
    "cohort['interval'] = (cohort['hosp_adm'] - cohort['prev_hosp_adm']) / pd.Timedelta('1 hour')\n",
    "cohort = cohort[cohort['interval'] > 0]\n",
    "cohort['interval'] = (cohort['hosp_adm'] - cohort['prev_hosp_adm']) / pd.Timedelta('365 days')\n",
    "cohort['prev_year'] = 0\n",
    "cohort.loc[cohort['interval'] <= 1.0, 'prev_year'] = 1\n",
    "\n",
    "# Save file\n",
    "cohort.to_csv('/opt/moredata/dchanci/pediatric_sepsis/data_models/previous_hosp.csv', index=False)"
   ]
  }
 ],
 "metadata": {
  "kernelspec": {
   "display_name": "cv_ml",
   "language": "python",
   "name": "python3"
  },
  "language_info": {
   "codemirror_mode": {
    "name": "ipython",
    "version": 3
   },
   "file_extension": ".py",
   "mimetype": "text/x-python",
   "name": "python",
   "nbconvert_exporter": "python",
   "pygments_lexer": "ipython3",
   "version": "3.9.12"
  },
  "orig_nbformat": 4
 },
 "nbformat": 4,
 "nbformat_minor": 2
}
