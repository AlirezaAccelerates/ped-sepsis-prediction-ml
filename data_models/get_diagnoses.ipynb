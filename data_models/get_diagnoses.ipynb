{
 "cells": [
  {
   "cell_type": "code",
   "execution_count": 1,
   "metadata": {},
   "outputs": [],
   "source": [
    "# Import libraries and packages\n",
    "import pandas as pd\n",
    "import numpy as np\n",
    "import warnings\n",
    "import os\n",
    "warnings.filterwarnings(\"ignore\")"
   ]
  },
  {
   "cell_type": "code",
   "execution_count": null,
   "metadata": {},
   "outputs": [],
   "source": [
    "# Load admitting diagnoses\n",
    "adm_diag = pd.read_csv('/opt/data/rishi/ECMO/new_data/TAB5_Admitting_Diagnoses.csv')\n",
    "adm_diag.columns = ['patid', 'name', 'dob', 'mrn', 'csn', 'icd9', 'icd10', 'diagnosis', 'admission_date']\n",
    "adm_diag.dropna(subset=['diagnosis'], inplace=True)"
   ]
  },
  {
   "cell_type": "code",
   "execution_count": 3,
   "metadata": {},
   "outputs": [],
   "source": [
    "# Add flags\n",
    "adm_diag['sepsis_septicemia'] = 0\n",
    "adm_diag.loc[adm_diag['diagnosis'].str.contains('sepsis|septicemia', case=False, na=False), 'sepsis_septicemia'] = 1\n",
    "\n",
    "adm_diag['septic_shock'] = 0\n",
    "adm_diag.loc[(adm_diag['diagnosis'].str.contains('septic shock', case=False, na=False)) & \n",
    "            ~(adm_diag['diagnosis'].str.contains('septicemia|without', case=False, na=False)), 'septic_shock'] = 1\n",
    "\n",
    "adm_diag['sickle_cell'] = 0\n",
    "adm_diag.loc[adm_diag['diagnosis'].str.contains('sickle', case=False, na=False), 'sickle_cell'] = 1\n",
    "\n",
    "adm_diag['dka'] = 0\n",
    "adm_diag.loc[(adm_diag['diagnosis'].str.contains('diabetes', case=False, na=False)) &\n",
    "            (adm_diag['diagnosis'].str.contains('ketoacidosis', case=False, na=False)), 'dka'] = 1\n",
    "\n",
    "adm_diag['asthmaticus'] = 0\n",
    "adm_diag.loc[adm_diag['diagnosis'].str.contains('asthmaticus', case=False, na=False), 'asthmaticus'] = 1\n",
    "\n",
    "adm_diag.to_csv('/opt/moredata/dchanci/pediatric_sepsis/data_models/flagged_adm_diag.csv', index=False)"
   ]
  }
 ],
 "metadata": {
  "kernelspec": {
   "display_name": "cv_ml",
   "language": "python",
   "name": "python3"
  },
  "language_info": {
   "codemirror_mode": {
    "name": "ipython",
    "version": 3
   },
   "file_extension": ".py",
   "mimetype": "text/x-python",
   "name": "python",
   "nbconvert_exporter": "python",
   "pygments_lexer": "ipython3",
   "version": "3.9.12"
  },
  "orig_nbformat": 4
 },
 "nbformat": 4,
 "nbformat_minor": 2
}
