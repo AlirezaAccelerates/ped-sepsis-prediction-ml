{
 "cells": [
  {
   "cell_type": "code",
   "execution_count": 49,
   "metadata": {},
   "outputs": [],
   "source": [
    "# Import libraries and packages\n",
    "import pandas as pd\n",
    "import numpy as np\n",
    "import os\n",
    "import tableone\n",
    "import warnings\n",
    "warnings.filterwarnings(\"ignore\")"
   ]
  },
  {
   "cell_type": "code",
   "execution_count": 50,
   "metadata": {},
   "outputs": [],
   "source": [
    "screening_method = 'inf_psofa'"
   ]
  },
  {
   "cell_type": "code",
   "execution_count": 51,
   "metadata": {},
   "outputs": [],
   "source": [
    "# Load cohort\n",
    "path = '/opt/moredata/dchanci/pediatric_sepsis/data_screening'\n",
    "comp_cohort = pd.read_csv(os.path.join(path, 'cohort_sirs_od.csv'))\n",
    "inf_psofa_eg = pd.read_csv(os.path.join('/opt/moredata/dchanci/pediatric_sepsis/data_models/approach_m1', 'dataset_agg_eg_' + 'inf_psofa' + '.csv'))\n",
    "inf_psofa_sr = pd.read_csv(os.path.join('/opt/moredata/dchanci/pediatric_sepsis/data_models/approach_m1', 'dataset_agg_sr_' + 'inf_psofa' + '.csv'))\n",
    "inf_psofa = pd.concat([inf_psofa_eg, inf_psofa_sr])\n",
    "comp_cohort = comp_cohort[comp_cohort['csn'].isin(inf_psofa['csn'].unique().tolist())]\n",
    "data = comp_cohort[['patid', 'csn', 'dob']]\n",
    "data['dob'] = data['dob'].apply(pd.to_datetime)"
   ]
  },
  {
   "cell_type": "code",
   "execution_count": 52,
   "metadata": {},
   "outputs": [],
   "source": [
    "# Load data\n",
    "cohort_pos = pd.read_csv('/opt/moredata/dchanci/pediatric_sepsis/data_screening/cohort_' + screening_method + '_pos.csv')\n",
    "\n",
    "# Add sepsis label\n",
    "data['Sepsis'] = 0\n",
    "data.loc[data['csn'].isin(cohort_pos['csn'].unique().tolist()), 'Sepsis'] = 1\n",
    "\n",
    "# Load demographics file\n",
    "demo = pd.read_csv(\"/opt/data/rishi/ECMO/new_data/TAB1_Patients.csv\")\n",
    "demo = demo[['Pat ID', 'Gender', 'Race']]\n",
    "demo.columns = ['patid', 'Gender', 'Race']\n",
    "\n",
    "# Add race and gender\n",
    "data = pd.merge(data, demo, on='patid', how=\"left\")\n",
    "\n",
    "# Fix gender\n",
    "data['Gender'] = data['Gender'].fillna('Unknown')\n",
    "\n",
    "# Fix race\n",
    "data['Race'] = data['Race'].fillna('Unknown')\n",
    "data.loc[(data['Race'].str.contains(\";\", case=False)) & (data['Race'].str.contains(\"declined|unknown\", case=False)), 'Race'] = 'Unknown'\n",
    "data.loc[data['Race'].str.contains(\";\", case=False), 'Race'] = 'Other'\n",
    "data.loc[data['Race'].isin(['Black/African-Amer']), 'Race'] = 'Black or African American'\n",
    "data.loc[data['Race'].isin([' White,Non-Hipanic', 'White,Hispanic']), 'Race'] = 'White'\n",
    "data.loc[data['Race'].isin(['Declined', 'Non-White Hispanic', 'Other', 'Other/Declined', 'Patient Not Present', 'Parent Not Present']), 'Race'] = 'Unknown'\n",
    "data.loc[data['Race'].isin(['American Ind/Alaskan', 'Multi-Racial', 'American Indian or Alaska Native', 'Native Hawaiian or Other Pacific Islander']), 'Race'] = 'Other'"
   ]
  },
  {
   "cell_type": "code",
   "execution_count": 54,
   "metadata": {},
   "outputs": [
    {
     "name": "stdout",
     "output_type": "stream",
     "text": [
      "Loading encounters...\n"
     ]
    }
   ],
   "source": [
    "# Load encounters file\n",
    "print('Loading encounters...')\n",
    "dept_path = '/opt/data/rishi/ECMO/new_data/TAB2_Encounter_Departments.csv'\n",
    "dept = pd.read_csv(dept_path)\n",
    "dept[['BIRTH_DATE', 'Hosp_Admission', 'Hosp_Discharge', 'Entered_Dept', 'Exited_Dept']] = dept[['BIRTH_DATE', 'Hosp_Admission', 'Hosp_Discharge', 'Entered_Dept', 'Exited_Dept']].apply(pd.to_datetime)\n",
    "dept = dept[['Pat ID', 'Encounter CSN', 'Name', 'BIRTH_DATE', 'Department', 'Entered_Dept', 'Exited_Dept', 'Hosp_Admission', 'Hosp_Discharge']]\n",
    "dept.columns = ['patid', 'csn', 'name', 'dob', 'department', 'entered_dept', 'exited_dept', 'hosp_adm', 'hosp_disch']\n",
    "dept = dept[(dept['department'].str.contains('PEDIATRIC ICU')) & (dept['hosp_adm'] >= '2010-01-01')]\n",
    "dept.dropna(inplace=True)\n",
    "dept.drop_duplicates(inplace=True)\n",
    "\n",
    "dept_first = dept.sort_values(by=['csn', 'hosp_adm', 'entered_dept'])\n",
    "dept_first = dept_first.groupby('csn', as_index=False).first()\n",
    "\n",
    "# Add hospital and PICU admission and discharge\n",
    "data = data.merge(dept_first[['csn', 'department', 'entered_dept', 'exited_dept', 'hosp_adm', 'hosp_disch']], how='inner', on='csn')"
   ]
  },
  {
   "cell_type": "code",
   "execution_count": 55,
   "metadata": {},
   "outputs": [],
   "source": [
    "# Add age\n",
    "data['Age in years'] = round(round((data['hosp_adm'] - data['dob']) / pd.Timedelta('1 day'), 0) / 365.25, 2)\n",
    "\n",
    "# Compute Age group\n",
    "data['Age Group'] = np.where(data['Age in years'] <= 0.083, '≤ 28 days', np.where(data['Age in years'] <= 3.0, '29 days - 2 years', \n",
    "                    np.where(data['Age in years'] <= 6.0, '3 - 5 years', '6 - 17 years')))"
   ]
  },
  {
   "cell_type": "code",
   "execution_count": 56,
   "metadata": {},
   "outputs": [],
   "source": [
    "# Compute hospital LOS\n",
    "data['Hospital Length of Stay in days'] = (data['hosp_disch'] - data['hosp_adm']) / pd.Timedelta('1 day')\n",
    "\n",
    "# Compute PICU LOS\n",
    "data['PICU Length of Stay in days'] = (data['exited_dept'] - data['entered_dept']) / pd.Timedelta('1 day')\n",
    "data.drop(['hosp_disch', 'hosp_adm', 'exited_dept'], axis=1, inplace=True)\n",
    "\n",
    "# Add mortality\n",
    "depts = pd.read_csv('/opt/data/rishi/ECMO/new_data/TAB2_Encounter_Departments.csv')\n",
    "depts[['Entered_Dept']] = depts[['Entered_Dept']].apply(pd.to_datetime)\n",
    "depts['Hospital mortality'] = np.where(depts['Hospital_Discharge_Disposition'] == 'Expired', 'Yes', np.where(depts['Hospital_Discharge_Disposition'] == 'Expired Place Unknown', 'Yes', 'No'))\n",
    "depts = depts[['Encounter CSN', 'Hospital mortality', 'Department', 'Entered_Dept']]\n",
    "depts.columns = ['csn', 'Hospital Mortality', 'department', 'entered_dept']\n",
    "\n",
    "# Merge dataframes\n",
    "data = data.merge(depts, how='inner', on=['csn', 'department', 'entered_dept'])\n",
    "data.rename(columns={'department':'PICU Campus'}, inplace=True)\n",
    "\n",
    "# Add ethnicity\n",
    "pats = pd.read_csv('/opt/data/rishi/ECMO/new_data/TAB1_Patients.csv')\n",
    "pats = pats[['Pat ID', 'Ethnicity']]\n",
    "pats.columns = ['patid', 'Ethnicity']\n",
    "\n",
    "# Merge dataframes\n",
    "data = data.merge(pats, how='inner', on='patid')\n",
    "data.drop(['entered_dept'], axis=1, inplace=True)"
   ]
  },
  {
   "cell_type": "code",
   "execution_count": 57,
   "metadata": {},
   "outputs": [],
   "source": [
    "# Add mortality scores\n",
    "scores = pd.read_csv('/opt/moredata/dchanci/pediatric_sepsis/data_analysis/mortality_scores.csv')\n",
    "scores.columns = ['csn', 'pSOFA', 'PELOD II', 'PRISM III']\n",
    "data = data.merge(scores, how='left', on='csn')"
   ]
  },
  {
   "cell_type": "code",
   "execution_count": 58,
   "metadata": {},
   "outputs": [],
   "source": [
    "# Organize data\n",
    "data.loc[(data['PICU Campus'] == 'SR PEDIATRIC ICU') & ((data['Sepsis'] == 0)), 'Campus'] = 'Validation No Sepsis'\n",
    "data.loc[(data['PICU Campus'] == 'EG PEDIATRIC ICU') & ((data['Sepsis'] == 0)), 'Campus'] = 'Derivation No Sepsis'\n",
    "data.loc[(data['PICU Campus'] == 'SR PEDIATRIC ICU') & ((data['Sepsis'] == 1)), 'Campus'] = 'Validation Sepsis'\n",
    "data.loc[(data['PICU Campus'] == 'EG PEDIATRIC ICU') & ((data['Sepsis'] == 1)), 'Campus'] = 'Derivation Sepsis'\n",
    "\n",
    "data.drop(['Sepsis', 'PICU Campus', 'patid', 'csn', 'dob'], axis=1, inplace=True)\n",
    "\n",
    "# Fix Ethnicity\n",
    "data.loc[data['Ethnicity'].isin(['Declined', 'Patient Not Present', 'Parent Not Present']), 'Ethnicity'] = 'Unknown'"
   ]
  },
  {
   "cell_type": "code",
   "execution_count": null,
   "metadata": {},
   "outputs": [],
   "source": [
    "# Create tableOne\n",
    "columns = list(data.columns)\n",
    "columns.remove('Campus')\n",
    "\n",
    "categorical = ['Gender', 'Race', 'Age Group', 'Hospital Mortality', 'Ethnicity']\n",
    "    \n",
    "nonnormal = [x for x in columns if x not in categorical]\n",
    "\n",
    "groupby = ['Campus']\n",
    "\n",
    "data.reset_index(inplace=True, drop=True)\n",
    "\n",
    "myTable = tableone.TableOne(data, columns=columns, categorical=categorical, groupby=groupby, nonnormal=nonnormal, pval=False, missing=False, htest_name=False)\n",
    "myTable.to_csv(os.path.join('/home/dchanci/research/pediatric_sepsis/prediction_ml/figs_tables', screening_method, 'tableone.csv'))"
   ]
  }
 ],
 "metadata": {
  "kernelspec": {
   "display_name": "cv_ml",
   "language": "python",
   "name": "python3"
  },
  "language_info": {
   "codemirror_mode": {
    "name": "ipython",
    "version": 3
   },
   "file_extension": ".py",
   "mimetype": "text/x-python",
   "name": "python",
   "nbconvert_exporter": "python",
   "pygments_lexer": "ipython3",
   "version": "3.9.12"
  },
  "orig_nbformat": 4
 },
 "nbformat": 4,
 "nbformat_minor": 2
}
