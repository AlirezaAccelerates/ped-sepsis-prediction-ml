{
 "cells": [
  {
   "cell_type": "code",
   "execution_count": 1,
   "metadata": {},
   "outputs": [],
   "source": [
    "# Import libraries and packages\n",
    "import pandas as pd\n",
    "import warnings\n",
    "warnings.filterwarnings(\"ignore\")"
   ]
  },
  {
   "cell_type": "code",
   "execution_count": null,
   "metadata": {},
   "outputs": [],
   "source": [
    "# Load SIRS + OD\n",
    "sirs_od = pd.read_csv('/opt/moredata/dchanci/pediatric_sepsis/data_screening/cohort_sirs_od_pos.csv')\n",
    "\n",
    "# Load INF SIRS + OD\n",
    "inf_sirs_od = pd.read_csv('/opt/moredata/dchanci/pediatric_sepsis/data_screening/cohort_inf_sirs_od_pos.csv')\n",
    "\n",
    "# Load INF + pSOFA\n",
    "inf_psofa = pd.read_csv('/opt/moredata/dchanci/pediatric_sepsis/data_screening/cohort_inf_psofa_pos.csv')"
   ]
  },
  {
   "cell_type": "code",
   "execution_count": null,
   "metadata": {},
   "outputs": [],
   "source": [
    "# Overlap SIRS + OD and INF + pSOFA\n",
    "sirs_od_inf_psofa = sirs_od.copy()\n",
    "sirs_od_inf_psofa = sirs_od_inf_psofa[sirs_od_inf_psofa['csn'].isin(inf_psofa['csn'].unique().tolist())]"
   ]
  },
  {
   "cell_type": "code",
   "execution_count": null,
   "metadata": {},
   "outputs": [],
   "source": [
    "# Overlap INF + SIRS + OD and INF + pSOFA\n",
    "inf_sirs_od_inf_psofa = inf_sirs_od.copy()\n",
    "inf_sirs_od_inf_psofa = inf_sirs_od_inf_psofa[inf_sirs_od_inf_psofa['csn'].isin(inf_psofa['csn'].unique().tolist())]"
   ]
  }
 ],
 "metadata": {
  "kernelspec": {
   "display_name": "cv_ml",
   "language": "python",
   "name": "python3"
  },
  "language_info": {
   "codemirror_mode": {
    "name": "ipython",
    "version": 3
   },
   "file_extension": ".py",
   "mimetype": "text/x-python",
   "name": "python",
   "nbconvert_exporter": "python",
   "pygments_lexer": "ipython3",
   "version": "3.9.12"
  },
  "orig_nbformat": 4
 },
 "nbformat": 4,
 "nbformat_minor": 2
}
