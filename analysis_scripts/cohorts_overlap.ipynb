{
 "cells": [
  {
   "cell_type": "code",
   "execution_count": 1,
   "metadata": {},
   "outputs": [],
   "source": [
    "# Import libraries and packages\n",
    "import pandas as pd\n",
    "import warnings\n",
    "warnings.filterwarnings(\"ignore\")"
   ]
  },
  {
   "cell_type": "code",
   "execution_count": 2,
   "metadata": {},
   "outputs": [
    {
     "name": "stdout",
     "output_type": "stream",
     "text": [
      "SIRS + OD: 10230\n",
      "INF SIRS + OD: 2421\n",
      "INF + pSOFA: 8666\n"
     ]
    }
   ],
   "source": [
    "# Load SIRS + OD\n",
    "sirs_od = pd.read_csv('/opt/moredata/dchanci/pediatric_sepsis/data_screening/cohort_sirs_od_pos.csv')\n",
    "print('SIRS + OD:', len(sirs_od['csn'].unique().tolist()))\n",
    "\n",
    "# Load INF SIRS + OD\n",
    "inf_sirs_od = pd.read_csv('/opt/moredata/dchanci/pediatric_sepsis/data_screening/cohort_inf_sirs_od_pos.csv')\n",
    "print('INF SIRS + OD:', len(inf_sirs_od['csn'].unique().tolist()))\n",
    "\n",
    "# Load INF + pSOFA\n",
    "inf_psofa = pd.read_csv('/opt/moredata/dchanci/pediatric_sepsis/data_screening/cohort_inf_psofa_pos.csv')\n",
    "print('INF + pSOFA:', len(inf_psofa['csn'].unique().tolist()))"
   ]
  },
  {
   "cell_type": "code",
   "execution_count": 3,
   "metadata": {},
   "outputs": [
    {
     "name": "stdout",
     "output_type": "stream",
     "text": [
      "Overlap SIRS + OD and INF + pSOFA: 2402\n",
      "Non Overlap SIRS + OD: 7828\n",
      "Non Overlap INF + pSOFA: 6264\n"
     ]
    }
   ],
   "source": [
    "# Overlap SIRS + OD and INF + pSOFA\n",
    "sirs_od_inf_psofa = sirs_od.copy()\n",
    "sirs_od_inf_psofa = sirs_od_inf_psofa[sirs_od_inf_psofa['csn'].isin(inf_psofa['csn'].unique().tolist())]\n",
    "print('Overlap SIRS + OD and INF + pSOFA:', len(sirs_od_inf_psofa['csn'].unique().tolist()))\n",
    "print('Non Overlap SIRS + OD:', len(sirs_od.loc[~(sirs_od['csn'].isin(sirs_od_inf_psofa['csn'].unique().tolist())), 'csn'].unique().tolist()))\n",
    "print('Non Overlap INF + pSOFA:', len(inf_psofa.loc[~(inf_psofa['csn'].isin(sirs_od_inf_psofa['csn'].unique().tolist())), 'csn'].unique().tolist()))"
   ]
  },
  {
   "cell_type": "code",
   "execution_count": 4,
   "metadata": {},
   "outputs": [
    {
     "name": "stdout",
     "output_type": "stream",
     "text": [
      "Overlap INF + SIRS + OD and INF + pSOFA: 2178\n",
      "Non Overlap INF + SIRS + OD: 243\n",
      "Non Overlap INF + pSOFA: 6488\n"
     ]
    }
   ],
   "source": [
    "# Overlap INF + SIRS + OD and INF + pSOFA\n",
    "inf_sirs_od_inf_psofa = inf_sirs_od.copy()\n",
    "inf_sirs_od_inf_psofa = inf_sirs_od_inf_psofa[inf_sirs_od_inf_psofa['csn'].isin(inf_psofa['csn'].unique().tolist())]\n",
    "print('Overlap INF + SIRS + OD and INF + pSOFA:', len(inf_sirs_od_inf_psofa['csn'].unique().tolist()))\n",
    "print('Non Overlap INF + SIRS + OD:', len(inf_sirs_od.loc[~(inf_sirs_od['csn'].isin(inf_sirs_od_inf_psofa['csn'].unique().tolist())), 'csn'].unique().tolist()))\n",
    "print('Non Overlap INF + pSOFA:', len(inf_psofa.loc[~(inf_psofa['csn'].isin(inf_sirs_od_inf_psofa['csn'].unique().tolist())), 'csn'].unique().tolist()))"
   ]
  }
 ],
 "metadata": {
  "kernelspec": {
   "display_name": "cv_ml",
   "language": "python",
   "name": "python3"
  },
  "language_info": {
   "codemirror_mode": {
    "name": "ipython",
    "version": 3
   },
   "file_extension": ".py",
   "mimetype": "text/x-python",
   "name": "python",
   "nbconvert_exporter": "python",
   "pygments_lexer": "ipython3",
   "version": "3.9.12"
  },
  "orig_nbformat": 4
 },
 "nbformat": 4,
 "nbformat_minor": 2
}
