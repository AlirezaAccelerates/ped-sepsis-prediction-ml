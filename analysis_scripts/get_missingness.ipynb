{
 "cells": [
  {
   "cell_type": "code",
   "execution_count": 1,
   "metadata": {},
   "outputs": [],
   "source": [
    "import pandas as pd\n",
    "import matplotlib.pyplot as plt\n",
    "import seaborn as sns"
   ]
  },
  {
   "cell_type": "code",
   "execution_count": 2,
   "metadata": {},
   "outputs": [],
   "source": [
    "col_names = ['albumin', 'base_excess', 'base_deficit', 'art_pco2', 'art_po2', 'bicarbonate', 'bilirubin_total', 'bp_dias', 'bp_sys', 'bun',\n",
    "              'calcium', 'calcium_ionized', 'chloride', 'co2', 'creatinine', 'fio2', 'glucose', 'hemoglobin', 'lactic_acid', \n",
    "              'map', 'pao2_fio2', 'ph', 'platelets', 'potassium', 'ptt', 'pulse', 'pupil_left_size', 'pupil_right_reaction', 'resp', 'sodium', 'spo2', 'temp', 'wbc']\n",
    "\n",
    "col_names_fixed = ['Albumin', 'Base Excess', 'Base Deficit', 'Arterial PaCO2', 'Arterial PaO2', 'Bicarbonate', 'Bilirubin', \n",
    "                   'Diastolic BP', 'Systolic BP', 'BUN', 'Calcium', 'Ionized Calcium', \n",
    "                   'Chloride', 'CO2', 'Creatinine', 'FiO2', 'Glucose', 'Hemoglobin', 'Lactic Acid', \n",
    "                    'MAP', 'PaO2/FiO2', 'pH', 'Platelets', 'Potassium', 'PTT', \n",
    "                    'Heart Rate', 'Pupil L Reaction', 'Pupil L Size', 'Respiratory Rate', 'Sodium', 'SpO2', \n",
    "                    'Temperature', 'WBC']\n",
    "\n",
    "num_vars = ['albumin', 'base_excess', 'base_deficit', 'art_pco2', 'art_po2', 'bicarbonate', 'bilirubin_total', 'bp_dias', 'bp_sys', 'bun',\n",
    "              'calcium', 'calcium_ionized', 'chloride', 'co2', 'creatinine', 'fio2', 'glucose', 'hemoglobin', 'lactic_acid', \n",
    "              'map', 'pao2_fio2', 'ph', 'platelets', 'potassium', 'ptt', 'pulse', 'pupil_left_size', 'resp', 'sodium', 'spo2', 'temp', 'wbc']"
   ]
  },
  {
   "cell_type": "code",
   "execution_count": 4,
   "metadata": {},
   "outputs": [],
   "source": [
    "# Load data\n",
    "data_eg = pd.read_csv('/opt/moredata/dchanci/pediatric_sepsis/data_models/approach_m1/features_preimp_pivot_eg.csv')\n",
    "data_eg[['dob', 'hosp_adm', 'recorded_time']] = data_eg[['dob', 'hosp_adm', 'recorded_time']].apply(pd.to_datetime)\n",
    "data_eg.sort_values(by=['csn', 'rel_time'], inplace=True)\n",
    "\n",
    "# Compute missingness\n",
    "data_eg = data_eg.groupby('csn', as_index=False).agg(lambda x: x.notnull().sum())\n",
    "for col in col_names:\n",
    "    data_eg[col] = data_eg[col] / data_eg['patid']\n",
    "data_eg = data_eg[col_names]\n",
    "data_eg.columns = col_names_fixed"
   ]
  },
  {
   "cell_type": "code",
   "execution_count": 5,
   "metadata": {},
   "outputs": [],
   "source": [
    "# Load data\n",
    "data_sr = pd.read_csv('/opt/moredata/dchanci/pediatric_sepsis/data_models/approach_m1/features_preimp_pivot_sr.csv')\n",
    "data_sr[['dob', 'hosp_adm', 'recorded_time']] = data_sr[['dob', 'hosp_adm', 'recorded_time']].apply(pd.to_datetime)\n",
    "data_sr.sort_values(by=['csn', 'rel_time'], inplace=True)\n",
    "\n",
    "# Compute missingness\n",
    "data_sr = data_sr.groupby('csn', as_index=False).agg(lambda x: x.notnull().sum())\n",
    "for col in col_names:\n",
    "    data_sr[col] = data_sr[col] / data_sr['patid']\n",
    "data_sr = data_sr[col_names]\n",
    "data_sr.columns = col_names_fixed"
   ]
  },
  {
   "cell_type": "code",
   "execution_count": 6,
   "metadata": {},
   "outputs": [],
   "source": [
    "# Organize columns\n",
    "values = []\n",
    "names = []\n",
    "for col in data_eg.columns:\n",
    "    names.append(col)\n",
    "    values.append(data_eg[col].sum())\n",
    "df = pd.DataFrame(zip(names, values), columns=['variables', 'sum'])\n",
    "df.sort_values(by='sum', inplace=True, ascending=False)"
   ]
  },
  {
   "cell_type": "code",
   "execution_count": null,
   "metadata": {},
   "outputs": [],
   "source": [
    "# Plot missingness\n",
    "fig, axes = plt.subplots(2, 1, figsize=(9, 8))\n",
    "data_eg = data_eg[list(df['variables'])]\n",
    "ax1 = sns.boxplot(ax=axes[0], data=data_eg, linewidth=1.5, boxprops={\"facecolor\": 'white'}, fliersize=3, flierprops={\"marker\": \".\"})\n",
    "ax1.set_ylabel('Entry density', fontsize=14)\n",
    "ax1.set_title('Derivation Cohort', fontsize=16)\n",
    "ax1.set(xticklabels=[])\n",
    "data_sr = data_sr[list(df['variables'])]\n",
    "ax2 = sns.boxplot(ax=axes[1], data=data_sr, linewidth=1.5, boxprops={\"facecolor\": 'white'}, fliersize=3, flierprops={\"marker\": \".\"})\n",
    "ax2.tick_params(axis='x', labelrotation=90, labelsize=13)\n",
    "ax2.set_ylabel('Entry density', fontsize=14)\n",
    "ax2.set_title('Validation Cohort', fontsize=16)\n",
    "plt.tight_layout()\n",
    "fig.savefig('/home/dchanci/research/pediatric_sepsis/figs_tables/missingness.png')"
   ]
  }
 ],
 "metadata": {
  "kernelspec": {
   "display_name": "cv_ml",
   "language": "python",
   "name": "python3"
  },
  "language_info": {
   "codemirror_mode": {
    "name": "ipython",
    "version": 3
   },
   "file_extension": ".py",
   "mimetype": "text/x-python",
   "name": "python",
   "nbconvert_exporter": "python",
   "pygments_lexer": "ipython3",
   "version": "3.9.12"
  },
  "orig_nbformat": 4
 },
 "nbformat": 4,
 "nbformat_minor": 2
}
