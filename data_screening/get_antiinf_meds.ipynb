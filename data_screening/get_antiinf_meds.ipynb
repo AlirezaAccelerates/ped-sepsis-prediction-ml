{
 "cells": [
  {
   "cell_type": "code",
   "execution_count": 1,
   "metadata": {},
   "outputs": [],
   "source": [
    "# Import libraries and packages\n",
    "import pandas as pd\n",
    "import numpy as np\n",
    "import warnings\n",
    "import os\n",
    "warnings.filterwarnings(\"ignore\")"
   ]
  },
  {
   "cell_type": "code",
   "execution_count": 2,
   "metadata": {},
   "outputs": [],
   "source": [
    "# Load data\n",
    "data = pd.read_csv('/opt/data/rishi/ECMO/new_data/DR15269_Medication_Administrations.tsv', on_bad_lines='skip', sep='\\t')\n",
    "data = data[['Z Patient ID', 'Encounter CSN', 'Date of Birth', 'Medication ID', 'Medication', 'MAR Action', 'MAR Time', 'Dose', 'Dose Unit']]\n",
    "data.columns = ['patid', 'csn', 'dob', 'med_id', 'med', 'mar_action', 'mar_time', 'dose', 'dose_unit']\n",
    "data.dropna(inplace=True)\n",
    "for col in data.columns: data[col] = data[col].apply(lambda x: x.split(\"'\")[1])\n",
    "data[['dob', 'mar_time']] = data[['dob', 'mar_time']].apply(pd.to_datetime)"
   ]
  },
  {
   "cell_type": "code",
   "execution_count": 3,
   "metadata": {},
   "outputs": [],
   "source": [
    "# Load antiinfective meds\n",
    "antiinf = pd.read_csv('../files/Emory_antiinfective_meds.csv')\n",
    "antiinf = antiinf['med_name'].unique().tolist()\n",
    "antiinf = [x.split(' ')[0] for x in antiinf]\n",
    "antiinf = [x.split('-')[0] for x in antiinf]"
   ]
  },
  {
   "cell_type": "code",
   "execution_count": 5,
   "metadata": {},
   "outputs": [],
   "source": [
    "# Filter data\n",
    "data = data[data['med'].str.contains('|'.join(antiinf), case=False)]\n",
    "\n",
    "# Save data\n",
    "data.to_csv('/opt/moredata/dchanci/pediatric_sepsis/data_screening/antiinf_meds.csv', index=False)"
   ]
  }
 ],
 "metadata": {
  "kernelspec": {
   "display_name": "cv_ml",
   "language": "python",
   "name": "python3"
  },
  "language_info": {
   "codemirror_mode": {
    "name": "ipython",
    "version": 3
   },
   "file_extension": ".py",
   "mimetype": "text/x-python",
   "name": "python",
   "nbconvert_exporter": "python",
   "pygments_lexer": "ipython3",
   "version": "3.9.12"
  },
  "orig_nbformat": 4
 },
 "nbformat": 4,
 "nbformat_minor": 2
}
